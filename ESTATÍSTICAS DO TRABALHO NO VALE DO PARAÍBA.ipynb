{
 "cells": [
  {
   "cell_type": "markdown",
   "id": "32157df1",
   "metadata": {},
   "source": [
    "# Análise de dados públicos do trabalho"
   ]
  },
  {
   "cell_type": "markdown",
   "id": "57dd941a",
   "metadata": {},
   "source": [
    "Análise de Dados públicos de Estatísticas Trabalhistas correlacionadas com a pandemia do COVID-19"
   ]
  },
  {
   "cell_type": "code",
   "execution_count": null,
   "id": "e8af5ab4",
   "metadata": {},
   "outputs": [],
   "source": []
  }
 ],
 "metadata": {
  "kernelspec": {
   "display_name": "Python 3",
   "language": "python",
   "name": "python3"
  },
  "language_info": {
   "codemirror_mode": {
    "name": "ipython",
    "version": 3
   },
   "file_extension": ".py",
   "mimetype": "text/x-python",
   "name": "python",
   "nbconvert_exporter": "python",
   "pygments_lexer": "ipython3",
   "version": "3.7.2"
  }
 },
 "nbformat": 4,
 "nbformat_minor": 5
}
